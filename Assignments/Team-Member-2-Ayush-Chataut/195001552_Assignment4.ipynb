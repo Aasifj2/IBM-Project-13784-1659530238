{
  "metadata": {
    "kernelspec": {
      "display_name": "Python 3",
      "language": "python",
      "name": "python3"
    },
    "language_info": {
      "name": "python",
      "version": "3.6.4",
      "mimetype": "text/x-python",
      "codemirror_mode": {
        "name": "ipython",
        "version": 3
      },
      "pygments_lexer": "ipython3",
      "nbconvert_exporter": "python",
      "file_extension": ".py"
    },
    "colab": {
      "provenance": [],
      "collapsed_sections": []
    }
  },
  "nbformat_minor": 0,
  "nbformat": 4,
  "cells": [
    {
      "cell_type": "markdown",
      "source": [
        "# Import the necessary libraries"
      ],
      "metadata": {
        "_cell_guid": "79c7e3d0-c299-4dcb-8224-4455121ee9b0",
        "_uuid": "d629ff2d2480ee46fbb7e2d37f6b5fab8052498a",
        "id": "5l4zTkbC8GF0"
      }
    },
    {
      "cell_type": "code",
      "source": [
        "import pandas as pd\n",
        "import numpy as np\n",
        "import matplotlib.pyplot as plt\n",
        "import seaborn as sns\n",
        "from sklearn.model_selection import train_test_split\n",
        "from sklearn.preprocessing import LabelEncoder\n",
        "from keras.models import Model\n",
        "from keras.layers import LSTM, Activation, Dense, Dropout, Input, Embedding\n",
        "from keras.optimizers import RMSprop\n",
        "from keras.preprocessing.text import Tokenizer\n",
        "from keras.preprocessing import sequence\n",
        "from tensorflow.keras.utils import to_categorical, pad_sequences\n",
        "from keras.callbacks import EarlyStopping\n",
        "%matplotlib inline"
      ],
      "metadata": {
        "_uuid": "d6fb32fd69316596e236eab5fb8cf77c848508c3",
        "execution": {
          "iopub.status.busy": "2022-11-02T10:41:07.370178Z",
          "iopub.execute_input": "2022-11-02T10:41:07.370594Z",
          "iopub.status.idle": "2022-11-02T10:41:11.118689Z",
          "shell.execute_reply.started": "2022-11-02T10:41:07.370495Z",
          "shell.execute_reply": "2022-11-02T10:41:11.117576Z"
        },
        "trusted": true,
        "id": "tJQZ39E_8GF3"
      },
      "execution_count": 26,
      "outputs": []
    },
    {
      "cell_type": "markdown",
      "source": [
        "### Load the data into Pandas dataframe"
      ],
      "metadata": {
        "_uuid": "f674695f1742479cefdeec0e81ab469f7b6ec90f",
        "id": "jdLna94H8GF4"
      }
    },
    {
      "cell_type": "code",
      "source": [
        "df = pd.read_csv('spam.csv',delimiter=',',encoding='latin-1')\n",
        "df.head()\n",
        "df.describe()"
      ],
      "metadata": {
        "_uuid": "aca2f1d9da3f35d104763166fe4d25448410d8f2",
        "execution": {
          "iopub.status.busy": "2022-11-02T10:41:11.120058Z",
          "iopub.execute_input": "2022-11-02T10:41:11.120358Z",
          "iopub.status.idle": "2022-11-02T10:41:11.180439Z",
          "shell.execute_reply.started": "2022-11-02T10:41:11.120305Z",
          "shell.execute_reply": "2022-11-02T10:41:11.179552Z"
        },
        "trusted": true,
        "id": "eWsDoYsi8GF5",
        "outputId": "2fed0761-f542-4ae0-d700-6f4955427d6c",
        "colab": {
          "base_uri": "https://localhost:8080/",
          "height": 175
        }
      },
      "execution_count": 18,
      "outputs": [
        {
          "output_type": "execute_result",
          "data": {
            "text/plain": [
              "          v1                      v2  \\\n",
              "count   5572                    5572   \n",
              "unique     2                    5169   \n",
              "top      ham  Sorry, I'll call later   \n",
              "freq    4825                      30   \n",
              "\n",
              "                                               Unnamed: 2  \\\n",
              "count                                                  50   \n",
              "unique                                                 43   \n",
              "top      bt not his girlfrnd... G o o d n i g h t . . .@\"   \n",
              "freq                                                    3   \n",
              "\n",
              "                   Unnamed: 3 Unnamed: 4  \n",
              "count                      12          6  \n",
              "unique                     10          5  \n",
              "top      MK17 92H. 450Ppw 16\"    GNT:-)\"  \n",
              "freq                        2          2  "
            ],
            "text/html": [
              "\n",
              "  <div id=\"df-699f2eae-fc07-41ad-bea8-324c1f869c9a\">\n",
              "    <div class=\"colab-df-container\">\n",
              "      <div>\n",
              "<style scoped>\n",
              "    .dataframe tbody tr th:only-of-type {\n",
              "        vertical-align: middle;\n",
              "    }\n",
              "\n",
              "    .dataframe tbody tr th {\n",
              "        vertical-align: top;\n",
              "    }\n",
              "\n",
              "    .dataframe thead th {\n",
              "        text-align: right;\n",
              "    }\n",
              "</style>\n",
              "<table border=\"1\" class=\"dataframe\">\n",
              "  <thead>\n",
              "    <tr style=\"text-align: right;\">\n",
              "      <th></th>\n",
              "      <th>v1</th>\n",
              "      <th>v2</th>\n",
              "      <th>Unnamed: 2</th>\n",
              "      <th>Unnamed: 3</th>\n",
              "      <th>Unnamed: 4</th>\n",
              "    </tr>\n",
              "  </thead>\n",
              "  <tbody>\n",
              "    <tr>\n",
              "      <th>count</th>\n",
              "      <td>5572</td>\n",
              "      <td>5572</td>\n",
              "      <td>50</td>\n",
              "      <td>12</td>\n",
              "      <td>6</td>\n",
              "    </tr>\n",
              "    <tr>\n",
              "      <th>unique</th>\n",
              "      <td>2</td>\n",
              "      <td>5169</td>\n",
              "      <td>43</td>\n",
              "      <td>10</td>\n",
              "      <td>5</td>\n",
              "    </tr>\n",
              "    <tr>\n",
              "      <th>top</th>\n",
              "      <td>ham</td>\n",
              "      <td>Sorry, I'll call later</td>\n",
              "      <td>bt not his girlfrnd... G o o d n i g h t . . .@\"</td>\n",
              "      <td>MK17 92H. 450Ppw 16\"</td>\n",
              "      <td>GNT:-)\"</td>\n",
              "    </tr>\n",
              "    <tr>\n",
              "      <th>freq</th>\n",
              "      <td>4825</td>\n",
              "      <td>30</td>\n",
              "      <td>3</td>\n",
              "      <td>2</td>\n",
              "      <td>2</td>\n",
              "    </tr>\n",
              "  </tbody>\n",
              "</table>\n",
              "</div>\n",
              "      <button class=\"colab-df-convert\" onclick=\"convertToInteractive('df-699f2eae-fc07-41ad-bea8-324c1f869c9a')\"\n",
              "              title=\"Convert this dataframe to an interactive table.\"\n",
              "              style=\"display:none;\">\n",
              "        \n",
              "  <svg xmlns=\"http://www.w3.org/2000/svg\" height=\"24px\"viewBox=\"0 0 24 24\"\n",
              "       width=\"24px\">\n",
              "    <path d=\"M0 0h24v24H0V0z\" fill=\"none\"/>\n",
              "    <path d=\"M18.56 5.44l.94 2.06.94-2.06 2.06-.94-2.06-.94-.94-2.06-.94 2.06-2.06.94zm-11 1L8.5 8.5l.94-2.06 2.06-.94-2.06-.94L8.5 2.5l-.94 2.06-2.06.94zm10 10l.94 2.06.94-2.06 2.06-.94-2.06-.94-.94-2.06-.94 2.06-2.06.94z\"/><path d=\"M17.41 7.96l-1.37-1.37c-.4-.4-.92-.59-1.43-.59-.52 0-1.04.2-1.43.59L10.3 9.45l-7.72 7.72c-.78.78-.78 2.05 0 2.83L4 21.41c.39.39.9.59 1.41.59.51 0 1.02-.2 1.41-.59l7.78-7.78 2.81-2.81c.8-.78.8-2.07 0-2.86zM5.41 20L4 18.59l7.72-7.72 1.47 1.35L5.41 20z\"/>\n",
              "  </svg>\n",
              "      </button>\n",
              "      \n",
              "  <style>\n",
              "    .colab-df-container {\n",
              "      display:flex;\n",
              "      flex-wrap:wrap;\n",
              "      gap: 12px;\n",
              "    }\n",
              "\n",
              "    .colab-df-convert {\n",
              "      background-color: #E8F0FE;\n",
              "      border: none;\n",
              "      border-radius: 50%;\n",
              "      cursor: pointer;\n",
              "      display: none;\n",
              "      fill: #1967D2;\n",
              "      height: 32px;\n",
              "      padding: 0 0 0 0;\n",
              "      width: 32px;\n",
              "    }\n",
              "\n",
              "    .colab-df-convert:hover {\n",
              "      background-color: #E2EBFA;\n",
              "      box-shadow: 0px 1px 2px rgba(60, 64, 67, 0.3), 0px 1px 3px 1px rgba(60, 64, 67, 0.15);\n",
              "      fill: #174EA6;\n",
              "    }\n",
              "\n",
              "    [theme=dark] .colab-df-convert {\n",
              "      background-color: #3B4455;\n",
              "      fill: #D2E3FC;\n",
              "    }\n",
              "\n",
              "    [theme=dark] .colab-df-convert:hover {\n",
              "      background-color: #434B5C;\n",
              "      box-shadow: 0px 1px 3px 1px rgba(0, 0, 0, 0.15);\n",
              "      filter: drop-shadow(0px 1px 2px rgba(0, 0, 0, 0.3));\n",
              "      fill: #FFFFFF;\n",
              "    }\n",
              "  </style>\n",
              "\n",
              "      <script>\n",
              "        const buttonEl =\n",
              "          document.querySelector('#df-699f2eae-fc07-41ad-bea8-324c1f869c9a button.colab-df-convert');\n",
              "        buttonEl.style.display =\n",
              "          google.colab.kernel.accessAllowed ? 'block' : 'none';\n",
              "\n",
              "        async function convertToInteractive(key) {\n",
              "          const element = document.querySelector('#df-699f2eae-fc07-41ad-bea8-324c1f869c9a');\n",
              "          const dataTable =\n",
              "            await google.colab.kernel.invokeFunction('convertToInteractive',\n",
              "                                                     [key], {});\n",
              "          if (!dataTable) return;\n",
              "\n",
              "          const docLinkHtml = 'Like what you see? Visit the ' +\n",
              "            '<a target=\"_blank\" href=https://colab.research.google.com/notebooks/data_table.ipynb>data table notebook</a>'\n",
              "            + ' to learn more about interactive tables.';\n",
              "          element.innerHTML = '';\n",
              "          dataTable['output_type'] = 'display_data';\n",
              "          await google.colab.output.renderOutput(dataTable, element);\n",
              "          const docLink = document.createElement('div');\n",
              "          docLink.innerHTML = docLinkHtml;\n",
              "          element.appendChild(docLink);\n",
              "        }\n",
              "      </script>\n",
              "    </div>\n",
              "  </div>\n",
              "  "
            ]
          },
          "metadata": {},
          "execution_count": 18
        }
      ]
    },
    {
      "cell_type": "code",
      "source": [
        "df.drop(['Unnamed: 2', 'Unnamed: 3', 'Unnamed: 4'],axis=1,inplace=True)\n",
        "df.info()"
      ],
      "metadata": {
        "scrolled": true,
        "_uuid": "95a8b5d6f19cf42d4f55c6d2842faf1d0d55c1d0",
        "execution": {
          "iopub.status.busy": "2022-11-02T10:41:11.181859Z",
          "iopub.execute_input": "2022-11-02T10:41:11.182129Z",
          "iopub.status.idle": "2022-11-02T10:41:11.199684Z",
          "shell.execute_reply.started": "2022-11-02T10:41:11.182090Z",
          "shell.execute_reply": "2022-11-02T10:41:11.198377Z"
        },
        "trusted": true,
        "id": "D-nX7xdm8GF5",
        "outputId": "d4238b32-1c81-48d2-b3ed-397e885b9a13",
        "colab": {
          "base_uri": "https://localhost:8080/"
        }
      },
      "execution_count": 19,
      "outputs": [
        {
          "output_type": "stream",
          "name": "stdout",
          "text": [
            "<class 'pandas.core.frame.DataFrame'>\n",
            "RangeIndex: 5572 entries, 0 to 5571\n",
            "Data columns (total 2 columns):\n",
            " #   Column  Non-Null Count  Dtype \n",
            "---  ------  --------------  ----- \n",
            " 0   v1      5572 non-null   object\n",
            " 1   v2      5572 non-null   object\n",
            "dtypes: object(2)\n",
            "memory usage: 87.2+ KB\n"
          ]
        }
      ]
    },
    {
      "cell_type": "code",
      "source": [
        "sns.countplot(df.v1)\n",
        "plt.xlabel('Label')\n",
        "plt.title('Number of ham and spam messages')"
      ],
      "metadata": {
        "_uuid": "a12002f521dd8eaeb0f69a932cbf23815ffd09d7",
        "execution": {
          "iopub.status.busy": "2022-11-02T10:41:11.201797Z",
          "iopub.execute_input": "2022-11-02T10:41:11.202231Z",
          "iopub.status.idle": "2022-11-02T10:41:11.473083Z",
          "shell.execute_reply.started": "2022-11-02T10:41:11.202159Z",
          "shell.execute_reply": "2022-11-02T10:41:11.471876Z"
        },
        "trusted": true,
        "id": "b3SK9f2l8GF6",
        "outputId": "0bd082f1-74f6-4ff2-8747-786d0067e5aa",
        "colab": {
          "base_uri": "https://localhost:8080/",
          "height": 367
        }
      },
      "execution_count": 20,
      "outputs": [
        {
          "output_type": "stream",
          "name": "stderr",
          "text": [
            "/usr/local/lib/python3.7/dist-packages/seaborn/_decorators.py:43: FutureWarning: Pass the following variable as a keyword arg: x. From version 0.12, the only valid positional argument will be `data`, and passing other arguments without an explicit keyword will result in an error or misinterpretation.\n",
            "  FutureWarning\n"
          ]
        },
        {
          "output_type": "execute_result",
          "data": {
            "text/plain": [
              "Text(0.5, 1.0, 'Number of ham and spam messages')"
            ]
          },
          "metadata": {},
          "execution_count": 20
        },
        {
          "output_type": "display_data",
          "data": {
            "text/plain": [
              "<Figure size 432x288 with 1 Axes>"
            ],
            "image/png": "[encoded data removed]"
          },
          "metadata": {
            "needs_background": "light"
          }
        }
      ]
    },
    {
      "cell_type": "code",
      "source": [
        "X = df.v2\n",
        "Y = df.v1\n",
        "le = LabelEncoder()\n",
        "Y = le.fit_transform(Y)\n",
        "Y = Y.reshape(-1,1)"
      ],
      "metadata": {
        "_uuid": "a1a345c1683e2fcc7173ecae867a5da87f2dde24",
        "execution": {
          "iopub.status.busy": "2022-11-02T10:41:11.474955Z",
          "iopub.execute_input": "2022-11-02T10:41:11.475371Z",
          "iopub.status.idle": "2022-11-02T10:41:11.485152Z",
          "shell.execute_reply.started": "2022-11-02T10:41:11.475292Z",
          "shell.execute_reply": "2022-11-02T10:41:11.484137Z"
        },
        "trusted": true,
        "id": "G1I133J28GF7"
      },
      "execution_count": 21,
      "outputs": []
    },
    {
      "cell_type": "markdown",
      "source": [
        "Split into training and test data."
      ],
      "metadata": {
        "_uuid": "150e244a39b814d8a41bbe0e419bc5f28e457dd6",
        "id": "82QTrC718GF7"
      }
    },
    {
      "cell_type": "code",
      "source": [
        "X_train,X_test,Y_train,Y_test = train_test_split(X,Y,test_size=0.15)"
      ],
      "metadata": {
        "scrolled": true,
        "_uuid": "aa3386af09469682c66cc53a1830a4e42f0e70b6",
        "execution": {
          "iopub.status.busy": "2022-11-02T10:41:11.486660Z",
          "iopub.execute_input": "2022-11-02T10:41:11.486954Z",
          "iopub.status.idle": "2022-11-02T10:41:11.500770Z",
          "shell.execute_reply.started": "2022-11-02T10:41:11.486907Z",
          "shell.execute_reply": "2022-11-02T10:41:11.499667Z"
        },
        "trusted": true,
        "id": "9Dg16N_E8GF7"
      },
      "execution_count": 22,
      "outputs": []
    },
    {
      "cell_type": "code",
      "source": [
        "max_words = 1000\n",
        "max_len = 150\n",
        "tok = Tokenizer(num_words=max_words)\n",
        "tok.fit_on_texts(X_train)\n",
        "sequences = tok.texts_to_sequences(X_train)\n",
        "sequences_matrix = pad_sequences(sequences,maxlen=max_len)"
      ],
      "metadata": {
        "_uuid": "bdca14f2b8cd7bd7cb5ee66fd40ea522217c03c6",
        "execution": {
          "iopub.status.busy": "2022-11-02T10:41:11.502241Z",
          "iopub.execute_input": "2022-11-02T10:41:11.502563Z",
          "iopub.status.idle": "2022-11-02T10:41:11.751049Z",
          "shell.execute_reply.started": "2022-11-02T10:41:11.502468Z",
          "shell.execute_reply": "2022-11-02T10:41:11.749946Z"
        },
        "trusted": true,
        "id": "UaIlRQyH8GF8"
      },
      "execution_count": 27,
      "outputs": []
    },
    {
      "cell_type": "markdown",
      "source": [
        "### RNN\n"
      ],
      "metadata": {
        "_uuid": "ad8706caa7a447fb49b44919fd109129e4082a93",
        "id": "Dq8N3abe8GF8"
      }
    },
    {
      "cell_type": "code",
      "source": [
        "def RNN():\n",
        "    inputs = Input(name='inputs',shape=[max_len])\n",
        "    layer = Embedding(max_words,50,input_length=max_len)(inputs)\n",
        "    layer = LSTM(64)(layer)\n",
        "    layer = Dense(100,name='FC1')(layer)\n",
        "    layer = Activation('relu')(layer)\n",
        "    layer = Dropout(0.4)(layer)\n",
        "    layer = Dense(10)(layer)\n",
        "    layer = Activation('relu')(layer)\n",
        "    layer = Dense(1,name='out_layer')(layer)\n",
        "    layer = Activation('sigmoid')(layer)\n",
        "    model = Model(inputs=inputs,outputs=layer)\n",
        "    return model"
      ],
      "metadata": {
        "_uuid": "78fff25b8be1de575bff071a2027f3dd2b11b911",
        "execution": {
          "iopub.status.busy": "2022-11-02T10:41:11.752647Z",
          "iopub.execute_input": "2022-11-02T10:41:11.752965Z",
          "iopub.status.idle": "2022-11-02T10:41:11.767027Z",
          "shell.execute_reply.started": "2022-11-02T10:41:11.752912Z",
          "shell.execute_reply": "2022-11-02T10:41:11.765935Z"
        },
        "trusted": true,
        "id": "646qj8BC8GF8"
      },
      "execution_count": 32,
      "outputs": []
    },
    {
      "cell_type": "markdown",
      "source": [
        "Call the function and compile the model."
      ],
      "metadata": {
        "_uuid": "9d7c489e32bff6d12b8c08c07a91e9ba5d302e0e",
        "id": "loDlxcYM8GF8"
      }
    },
    {
      "cell_type": "code",
      "source": [
        "model = RNN()\n",
        "model.summary()\n",
        "model.compile(loss='binary_crossentropy',optimizer='Adam',metrics=['accuracy'])"
      ],
      "metadata": {
        "_uuid": "a0ede32d4127e8b4990fd74fe97fadef9e565d17",
        "execution": {
          "iopub.status.busy": "2022-11-02T10:41:11.768811Z",
          "iopub.execute_input": "2022-11-02T10:41:11.769183Z",
          "iopub.status.idle": "2022-11-02T10:41:12.093091Z",
          "shell.execute_reply.started": "2022-11-02T10:41:11.769116Z",
          "shell.execute_reply": "2022-11-02T10:41:12.091259Z"
        },
        "trusted": true,
        "id": "jNvvMvYp8GF9",
        "outputId": "faf013b4-ec29-4c96-8d83-518c02c75f98",
        "colab": {
          "base_uri": "https://localhost:8080/"
        }
      },
      "execution_count": 34,
      "outputs": [
        {
          "output_type": "stream",
          "name": "stdout",
          "text": [
            "Model: \"model_2\"\n",
            "_________________________________________________________________\n",
            " Layer (type)                Output Shape              Param #   \n",
            "=================================================================\n",
            " inputs (InputLayer)         [(None, 150)]             0         \n",
            "                                                                 \n",
            " embedding_2 (Embedding)     (None, 150, 50)           50000     \n",
            "                                                                 \n",
            " lstm_2 (LSTM)               (None, 64)                29440     \n",
            "                                                                 \n",
            " FC1 (Dense)                 (None, 100)               6500      \n",
            "                                                                 \n",
            " activation_6 (Activation)   (None, 100)               0         \n",
            "                                                                 \n",
            " dropout_2 (Dropout)         (None, 100)               0         \n",
            "                                                                 \n",
            " dense_2 (Dense)             (None, 10)                1010      \n",
            "                                                                 \n",
            " activation_7 (Activation)   (None, 10)                0         \n",
            "                                                                 \n",
            " out_layer (Dense)           (None, 1)                 11        \n",
            "                                                                 \n",
            " activation_8 (Activation)   (None, 1)                 0         \n",
            "                                                                 \n",
            "=================================================================\n",
            "Total params: 86,961\n",
            "Trainable params: 86,961\n",
            "Non-trainable params: 0\n",
            "_________________________________________________________________\n"
          ]
        }
      ]
    },
    {
      "cell_type": "markdown",
      "source": [
        "Fit on the training data."
      ],
      "metadata": {
        "_uuid": "bc2e0a3ec50d14c790b82d66f9255456ec6a69da",
        "id": "XsDEdFcs8GF9"
      }
    },
    {
      "cell_type": "code",
      "source": [
        "history = model.fit(sequences_matrix,Y_train,batch_size=64,epochs=15, validation_split=0.25)"
      ],
      "metadata": {
        "_uuid": "98f6d6318352420ea49c532cda158f715f940f4b",
        "execution": {
          "iopub.status.busy": "2022-11-02T10:41:12.094685Z",
          "iopub.execute_input": "2022-11-02T10:41:12.094986Z",
          "iopub.status.idle": "2022-11-02T10:41:45.966669Z",
          "shell.execute_reply.started": "2022-11-02T10:41:12.094935Z",
          "shell.execute_reply": "2022-11-02T10:41:45.965731Z"
        },
        "trusted": true,
        "id": "pYyOeG-88GF9",
        "outputId": "01362142-fccf-49ad-9efc-0f1a5dc53074",
        "colab": {
          "base_uri": "https://localhost:8080/"
        }
      },
      "execution_count": 35,
      "outputs": [
        {
          "output_type": "stream",
          "name": "stdout",
          "text": [
            "Epoch 1/15\n",
            "56/56 [==============================] - 11s 135ms/step - loss: 0.3373 - accuracy: 0.8615 - val_loss: 0.1611 - val_accuracy: 0.9079\n",
            "Epoch 2/15\n",
            "56/56 [==============================] - 7s 124ms/step - loss: 0.1083 - accuracy: 0.9772 - val_loss: 0.0824 - val_accuracy: 0.9806\n",
            "Epoch 3/15\n",
            "56/56 [==============================] - 7s 124ms/step - loss: 0.0269 - accuracy: 0.9913 - val_loss: 0.0841 - val_accuracy: 0.9789\n",
            "Epoch 4/15\n",
            "56/56 [==============================] - 7s 124ms/step - loss: 0.0172 - accuracy: 0.9963 - val_loss: 0.0815 - val_accuracy: 0.9848\n",
            "Epoch 5/15\n",
            "56/56 [==============================] - 7s 123ms/step - loss: 0.0090 - accuracy: 0.9977 - val_loss: 0.1024 - val_accuracy: 0.9856\n",
            "Epoch 6/15\n",
            "56/56 [==============================] - 7s 125ms/step - loss: 0.0085 - accuracy: 0.9969 - val_loss: 0.0918 - val_accuracy: 0.9848\n",
            "Epoch 7/15\n",
            "56/56 [==============================] - 7s 127ms/step - loss: 0.0063 - accuracy: 0.9986 - val_loss: 0.1078 - val_accuracy: 0.9856\n",
            "Epoch 8/15\n",
            "56/56 [==============================] - 8s 148ms/step - loss: 0.0077 - accuracy: 0.9980 - val_loss: 0.0966 - val_accuracy: 0.9840\n",
            "Epoch 9/15\n",
            "56/56 [==============================] - 7s 133ms/step - loss: 0.0035 - accuracy: 0.9994 - val_loss: 0.1054 - val_accuracy: 0.9865\n",
            "Epoch 10/15\n",
            "56/56 [==============================] - 7s 129ms/step - loss: 0.0038 - accuracy: 0.9989 - val_loss: 0.1096 - val_accuracy: 0.9865\n",
            "Epoch 11/15\n",
            "56/56 [==============================] - 7s 127ms/step - loss: 0.0026 - accuracy: 0.9997 - val_loss: 0.1209 - val_accuracy: 0.9865\n",
            "Epoch 12/15\n",
            "56/56 [==============================] - 7s 127ms/step - loss: 0.0023 - accuracy: 0.9997 - val_loss: 0.1145 - val_accuracy: 0.9865\n",
            "Epoch 13/15\n",
            "56/56 [==============================] - 7s 127ms/step - loss: 0.0024 - accuracy: 0.9997 - val_loss: 0.1193 - val_accuracy: 0.9873\n",
            "Epoch 14/15\n",
            "56/56 [==============================] - 8s 140ms/step - loss: 0.0024 - accuracy: 0.9997 - val_loss: 0.1240 - val_accuracy: 0.9873\n",
            "Epoch 15/15\n",
            "56/56 [==============================] - 10s 175ms/step - loss: 0.0020 - accuracy: 0.9997 - val_loss: 0.1297 - val_accuracy: 0.9873\n"
          ]
        }
      ]
    },
    {
      "cell_type": "code",
      "source": [
        "# summarize history for accuracy\n",
        "plt.plot(history.history['accuracy'])\n",
        "plt.plot(history.history['val_accuracy'])\n",
        "plt.title('model accuracy')\n",
        "plt.ylabel('accuracy')\n",
        "plt.xlabel('epoch')\n",
        "plt.legend(['train', 'test'], loc='upper left')\n",
        "plt.show()\n",
        "# summarize history for loss\n",
        "plt.plot(history.history['loss'])\n",
        "plt.plot(history.history['val_loss'])\n",
        "plt.title('model loss')\n",
        "plt.ylabel('loss')\n",
        "plt.xlabel('epoch')\n",
        "plt.legend(['train', 'test'], loc='upper left')\n",
        "plt.show()"
      ],
      "metadata": {
        "colab": {
          "base_uri": "https://localhost:8080/",
          "height": 573
        },
        "id": "Mcam3QU1U3bD",
        "outputId": "ca7eca30-aedf-4781-dbd5-3fd6152ad62a"
      },
      "execution_count": 36,
      "outputs": [
        {
          "output_type": "display_data",
          "data": {
            "text/plain": [
              "<Figure size 432x288 with 1 Axes>"
            ],
            "image/png": "[encoded data removed]"
          },
          "metadata": {
            "needs_background": "light"
          }
        },
        {
          "output_type": "display_data",
          "data": {
            "text/plain": [
              "<Figure size 432x288 with 1 Axes>"
            ],
            "image/png": "[encoded data removed]"
          },
          "metadata": {
            "needs_background": "light"
          }
        }
      ]
    },
    {
      "cell_type": "markdown",
      "source": [
        "The model performs well on the validation set and this configuration is chosen as the final model."
      ],
      "metadata": {
        "_uuid": "448ab38c2f804e47df48eb45385393aaec168032",
        "id": "9X4vF3jX8GF9"
      }
    },
    {
      "cell_type": "markdown",
      "source": [
        "Process the test set data."
      ],
      "metadata": {
        "_uuid": "ccca7839445a7d663ee7bc425a16e247df3e0e5b",
        "id": "9VTZfBIx8GF-"
      }
    },
    {
      "cell_type": "code",
      "source": [
        "test_sequences = tok.texts_to_sequences(X_test)\n",
        "test_sequences_matrix = pad_sequences(test_sequences,maxlen=max_len)"
      ],
      "metadata": {
        "_uuid": "80036135a11387d952becaf2fecf653a65c02328",
        "execution": {
          "iopub.status.busy": "2022-11-02T10:41:45.968041Z",
          "iopub.execute_input": "2022-11-02T10:41:45.968373Z",
          "iopub.status.idle": "2022-11-02T10:41:45.996768Z",
          "shell.execute_reply.started": "2022-11-02T10:41:45.968310Z",
          "shell.execute_reply": "2022-11-02T10:41:45.995884Z"
        },
        "trusted": true,
        "id": "gl5DVBdL8GF-"
      },
      "execution_count": 38,
      "outputs": []
    },
    {
      "cell_type": "markdown",
      "source": [
        "Evaluate the model on the test set."
      ],
      "metadata": {
        "_uuid": "0b60d7d2bcc0aabf77c8c8766c59f8d73cd34547",
        "id": "WgnfAlL_8GF-"
      }
    },
    {
      "cell_type": "code",
      "source": [
        "accr = model.evaluate(test_sequences_matrix,Y_test)"
      ],
      "metadata": {
        "_uuid": "0db183049b59d96388812a98efedfc865b7cc141",
        "execution": {
          "iopub.status.busy": "2022-11-02T10:41:45.998273Z",
          "iopub.execute_input": "2022-11-02T10:41:45.998567Z",
          "iopub.status.idle": "2022-11-02T10:41:46.958449Z",
          "shell.execute_reply.started": "2022-11-02T10:41:45.998504Z",
          "shell.execute_reply": "2022-11-02T10:41:46.957717Z"
        },
        "trusted": true,
        "id": "uqMKcBVl8GF-",
        "outputId": "22b5f74e-db89-476d-f695-130a75a9a647",
        "colab": {
          "base_uri": "https://localhost:8080/"
        }
      },
      "execution_count": 39,
      "outputs": [
        {
          "output_type": "stream",
          "name": "stdout",
          "text": [
            "27/27 [==============================] - 1s 23ms/step - loss: 0.0814 - accuracy: 0.9904\n"
          ]
        }
      ]
    },
    {
      "cell_type": "code",
      "source": [
        "print('Test set\\n  Loss: {:0.3f}\\n  Accuracy: {:0.3f}'.format(accr[0],accr[1]))"
      ],
      "metadata": {
        "scrolled": true,
        "_uuid": "3e121ab83f4a0b9f7376ab24aa25d67051171f89",
        "execution": {
          "iopub.status.busy": "2022-11-02T10:41:46.960114Z",
          "iopub.execute_input": "2022-11-02T10:41:46.960473Z",
          "iopub.status.idle": "2022-11-02T10:41:46.966340Z",
          "shell.execute_reply.started": "2022-11-02T10:41:46.960414Z",
          "shell.execute_reply": "2022-11-02T10:41:46.965385Z"
        },
        "trusted": true,
        "id": "BT4U5kJf8GF-",
        "outputId": "814b0b2d-e55e-4101-e585-7246711dd16f",
        "colab": {
          "base_uri": "https://localhost:8080/"
        }
      },
      "execution_count": 40,
      "outputs": [
        {
          "output_type": "stream",
          "name": "stdout",
          "text": [
            "Test set\n",
            "  Loss: 0.081\n",
            "  Accuracy: 0.990\n"
          ]
        }
      ]
    }
  ]
}